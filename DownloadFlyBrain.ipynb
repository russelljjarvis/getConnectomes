{
 "cells": [
  {
   "cell_type": "markdown",
   "id": "3b4e30c5",
   "metadata": {},
   "source": [
    "## Step 1\n",
    "### Register [here](https://neuprint.janelia.org/?dataset=hemibrain:v1.2.1&qt=findneurons). \n",
    "Fortunately if you are logged into your browser with Google, you can access a \"1 click opt in-registeration\".\n",
    "## Step 2\n",
    "Navigate to your account and select the ***auth_token***, which is very easy to find!\n",
    "## Step 3. \n",
    "Paste auth_token as a string in redacted\n"
   ]
  },
  {
   "cell_type": "code",
   "execution_count": null,
   "id": "16816365",
   "metadata": {},
   "outputs": [],
   "source": [
    "\n",
    "import numpy as np\n",
    "import pandas as pd\n",
    "import matplotlib.pyplot as plt\n",
    "from tqdm.notebook import tqdm\n",
    "import navis\n",
    "import pickle\n",
    "import os\n",
    "import navis\n",
    "import navis.interfaces.neuprint as neu\n",
    "from neuprint import Client\n",
    "import os\n",
    "NC = neu.NeuronCriteria\n",
    "client = neu.Client('https://neuprint.janelia.org', dataset='hemibrain:v1.1', token='redacted')\n",
    "# First grab all neurons that have either pre- or postsynapses \n",
    "# (we don't really care about neurons without connectivity for this analysis)\n",
    "all_meta1, roi1 = neu.fetch_neurons(NC(min_post=1))\n",
    "all_meta2, roi2 = neu.fetch_neurons(NC(min_pre=1))\n",
    "# Combine above dataframes\n",
    "all_roi = pd.concat([roi1, roi2], axis=0).drop_duplicates(['bodyId', 'roi'])\n",
    "meta = pd.concat([all_meta1, all_meta2], axis=0).drop_duplicates('bodyId')\n",
    "meta.tail(2)\n",
    "os.system(\"mkdir flybrain\")\n",
    "export_dir=\"flybrain\"\n",
    "_, edges = neu.fetch_adjacencies(include_nonprimary=True, export_dir=export_dir, batch_size=200)\n",
    "with open(\"drosophila_connectome.p\",\"wb\") as f:\n",
    "    pickle.dump(edges,f)"
   ]
  },
  {
   "cell_type": "code",
   "execution_count": null,
   "id": "144ed327",
   "metadata": {},
   "outputs": [],
   "source": [
    "with open(\"drosophila_connectome.p\",\"rb\") as f:\n",
    "    edges = pickle.load(f)"
   ]
  },
  {
   "cell_type": "code",
   "execution_count": null,
   "id": "b51796b1",
   "metadata": {},
   "outputs": [],
   "source": [
    "edges.columns"
   ]
  },
  {
   "cell_type": "code",
   "execution_count": null,
   "id": "b47aaa9b",
   "metadata": {},
   "outputs": [],
   "source": []
  }
 ],
 "metadata": {
  "kernelspec": {
   "display_name": "Python 3 (ipykernel)",
   "language": "python",
   "name": "python3"
  },
  "language_info": {
   "codemirror_mode": {
    "name": "ipython",
    "version": 3
   },
   "file_extension": ".py",
   "mimetype": "text/x-python",
   "name": "python",
   "nbconvert_exporter": "python",
   "pygments_lexer": "ipython3",
   "version": "3.9.12"
  }
 },
 "nbformat": 4,
 "nbformat_minor": 5
}
